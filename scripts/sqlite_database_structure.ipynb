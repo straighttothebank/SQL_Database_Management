{
 "cells": [
  {
   "cell_type": "code",
   "execution_count": 1,
   "id": "fccb9402",
   "metadata": {},
   "outputs": [],
   "source": [
    "#Importing libraries\n",
    "import sqlite3\n",
    "import pandas as pd\n",
    "import os\n",
    "import warnings\n",
    "import openpyxl as op"
   ]
  },
  {
   "cell_type": "markdown",
   "id": "b140fba6",
   "metadata": {},
   "source": [
    "# Setting the database parameters"
   ]
  },
  {
   "cell_type": "code",
   "execution_count": 2,
   "id": "5b63510e",
   "metadata": {},
   "outputs": [],
   "source": [
    "database_path = r\"C:\\Python\\SQL_Database_Management_Adaptado\\local_database\\super_bdo_database_adaptado.db\"\n",
    "super_bdo_path = r\"C:\\Python\\SQL_Database_Management_Adaptado\\data\\SUPER_BDO_DATA.xlsx\""
   ]
  },
  {
   "cell_type": "code",
   "execution_count": 3,
   "id": "3a71615f",
   "metadata": {},
   "outputs": [],
   "source": [
    "#Getting the sheets names\n",
    "super_bdo_wb = op.load_workbook(super_bdo_path,read_only=True)\n",
    "sheets_names = super_bdo_wb.sheetnames\n",
    "super_bdo_wb.close()"
   ]
  },
  {
   "cell_type": "markdown",
   "id": "d4bb4ad8",
   "metadata": {},
   "source": [
    "# Setting the SQL create tables functions"
   ]
  },
  {
   "cell_type": "code",
   "execution_count": 4,
   "id": "2d07ec29",
   "metadata": {},
   "outputs": [],
   "source": [
    "for i in sheets_names:\n",
    "    super_bdo_df = pd.read_excel(super_bdo_path,i)\n",
    "    create_table = []\n",
    "    create_table.append('ID_' + i + ' integer PRIMARY KEY ASC')\n",
    "    columns_names = []\n",
    "    for col in super_bdo_df.columns:\n",
    "        columns_names.append(col + \" text\")\n",
    "    create_table.append(columns_names)\n",
    "    create_table_function = 'CREATE TABLE IF NOT EXISTS ' + i + ' (' +  str(create_table).replace(\"'\",\"\").replace(\"[\",\"\").replace(\"]\",\"\") + ');' \n",
    "    \n",
    "    #Connecting with database\n",
    "    connection = sqlite3.connect(database_path, timeout=10)\n",
    "    cursor = connection.cursor()\n",
    "\n",
    "    #Executing the SQL scripts\n",
    "    cursor.execute(create_table_function)\n",
    "\n",
    "    #Closing the connection with database\n",
    "    cursor.close()\n",
    "    connection.close()"
   ]
  },
  {
   "cell_type": "markdown",
   "id": "dff432de",
   "metadata": {},
   "source": [
    "# Inserting large data into super_bdo_database tables"
   ]
  },
  {
   "cell_type": "code",
   "execution_count": 5,
   "id": "23525d10",
   "metadata": {
    "scrolled": true
   },
   "outputs": [],
   "source": [
    "for i in sheets_names:\n",
    "    #Loading the dataset\n",
    "    warnings.simplefilter(action='ignore', category=UserWarning)\n",
    "    super_bdo_df = pd.read_excel(super_bdo_path, i)\n",
    "    warnings.resetwarnings()\n",
    "    \n",
    "    #Inserting the ID column\n",
    "    super_bdo_df.insert(0,\"ID_\" + i, None)\n",
    "    \n",
    "    #Inserting the super bdo dataframe into table\n",
    "    connection = sqlite3.connect(database_path, timeout=10)\n",
    "    cursor = connection.cursor()\n",
    "    super_bdo_df.to_sql(i, connection, if_exists='append', index=False)\n",
    "    cursor.close()\n",
    "    connection.close()"
   ]
  },
  {
   "cell_type": "code",
   "execution_count": null,
   "id": "08988e82",
   "metadata": {},
   "outputs": [],
   "source": []
  }
 ],
 "metadata": {
  "kernelspec": {
   "display_name": "Python 3 (ipykernel)",
   "language": "python",
   "name": "python3"
  },
  "language_info": {
   "codemirror_mode": {
    "name": "ipython",
    "version": 3
   },
   "file_extension": ".py",
   "mimetype": "text/x-python",
   "name": "python",
   "nbconvert_exporter": "python",
   "pygments_lexer": "ipython3",
   "version": "3.9.12"
  }
 },
 "nbformat": 4,
 "nbformat_minor": 5
}
